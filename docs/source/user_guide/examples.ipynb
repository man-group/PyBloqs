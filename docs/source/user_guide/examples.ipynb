{
 "cells": [
  {
   "cell_type": "markdown",
   "metadata": {},
   "source": [
    "# Composable Blocks"
   ]
  },
  {
   "cell_type": "markdown",
   "metadata": {},
   "source": [
    "This is a simple illustration of the python API for Blocks.\n",
    "\n",
    "## What are Blocks?\n",
    "Blocks are composable layout elements for easily building HTML, PDF, PNG and JPG based reports.\n",
    "At the same time, all block constructs can be rendered in-line in IPython Notebooks.\n",
    "This has practical benefits like a single backtest function that can be used for quick analysis during research work in a notebook, but also directly injected into more formal reports with having to fumble around with intermediate formats.\n",
    "\n",
    "Practically all the functionality is based on `HTML` rendering.\n",
    "HTML is a declarative, tree based language that is easy to work with and fungible.\n",
    "Blocks are also declarative, composable into a tree and are meant to be dead simple.\n",
    "The match was thus quite natural.\n",
    "\n",
    "The blocks do not try to match the power and precision of latex.\n",
    "Such an undertaking would be not only out of the scope of a simple library, but would mean the reinvention of latex with all the gnarliness that comes with it."
   ]
  },
  {
   "cell_type": "markdown",
   "metadata": {},
   "source": [
    "## Imports & Data\n",
    "To get started with pybloqs, you will want to `import pybloqs`{l=python}. We'll also use `import numpy as np`{l=python} and `import pandas as pd`{l=python} in this document."
   ]
  },
  {
   "cell_type": "code",
   "execution_count": 1,
   "metadata": {
    "tags": [
     "hide-input"
    ]
   },
   "outputs": [],
   "source": [
    "%%capture\n",
    "from datetime import datetime\n",
    "\n",
    "import numpy as np\n",
    "import pandas as pd\n",
    "\n",
    "import pybloqs\n",
    "\n",
    "df = pd.DataFrame(\n",
    "    (np.random.rand(200, 4) - 0.5) / 10,\n",
    "    columns=list(\"ABCD\"),\n",
    "    index=pd.date_range(datetime(2000, 1, 1), periods=200),\n",
    ")\n",
    "\n",
    "df_cr = (df + 1).cumprod()\n",
    "\n",
    "a = df_cr.A\n",
    "b = df_cr.B\n",
    "c = df_cr.C\n",
    "c.name = \"C\""
   ]
  },
  {
   "cell_type": "markdown",
   "metadata": {},
   "source": [
    "## Individual blocks\n",
    "We start with the obligatory \"Hello World!\".\n",
    "\n",
    "Throughout we have highlighted the background of the blocks with colour `#eee` (light grey) to distinguish the output of the cell from the rest of this document.\n",
    "You can set `css` styles on your blocks by passing keyword arguments to `Block`."
   ]
  },
  {
   "cell_type": "code",
   "execution_count": 2,
   "metadata": {},
   "outputs": [
    {
     "data": {
      "text/html": [
       "<div class=\"pybloqs\" style=\"background:#eee\">\n",
       " Hello World!\n",
       "</div>\n"
      ],
      "text/plain": [
       "<pybloqs.block.text.Raw at 0x7a79a0219b70>"
      ]
     },
     "execution_count": 2,
     "metadata": {},
     "output_type": "execute_result"
    }
   ],
   "source": [
    "pybloqs.Block(\"Hello World!\", background=\"#eee\")"
   ]
  },
  {
   "cell_type": "markdown",
   "metadata": {},
   "source": [
    "Any `css` property can be used. Lets change the alignment and font weight."
   ]
  },
  {
   "cell_type": "code",
   "execution_count": 3,
   "metadata": {},
   "outputs": [
    {
     "data": {
      "text/html": [
       "<div class=\"pybloqs\" style=\"background:#eee;text-align:right;font-weight:bold\">\n",
       " Hello World!\n",
       "</div>\n"
      ],
      "text/plain": [
       "<pybloqs.block.text.Raw at 0x7a79a021ac20>"
      ]
     },
     "execution_count": 3,
     "metadata": {},
     "output_type": "execute_result"
    }
   ],
   "source": [
    "pybloqs.Block(\"Hello World!\", text_align=\"right\", font_weight=\"bold\", background=\"#eee\")"
   ]
  },
  {
   "cell_type": "markdown",
   "metadata": {},
   "source": [
    "All blocks support a title. "
   ]
  },
  {
   "cell_type": "code",
   "execution_count": 4,
   "metadata": {},
   "outputs": [
    {
     "data": {
      "text/html": [
       "<div class=\"pybloqs\" style=\"background:#eee\">\n",
       " <H3 style=\"white-space: nowrap\">\n",
       "  Announcement\n",
       " </H3>\n",
       " Hello World!\n",
       "</div>\n"
      ],
      "text/plain": [
       "<pybloqs.block.text.Raw at 0x7a79a021a560>"
      ]
     },
     "execution_count": 4,
     "metadata": {},
     "output_type": "execute_result"
    }
   ],
   "source": [
    "pybloqs.Block(\"Hello World!\", title=\"Announcement\", title_level=3, background=\"#eee\")"
   ]
  },
  {
   "cell_type": "markdown",
   "metadata": {},
   "source": [
    "We can pass a dataframe to `Block`"
   ]
  },
  {
   "cell_type": "code",
   "execution_count": 5,
   "metadata": {},
   "outputs": [
    {
     "data": {
      "text/html": [
       "<div class=\"pybloqs\" style=\"background:#eee\">\n",
       " <table border=\"0\" cellpadding=\"1\" cellspacing=\"0\" class=\"\" id=\"blox_table_id\" style=\"margin-left:auto; margin-right:auto; page-break-inside:avoid;\">\n",
       "  <colgroup>\n",
       "   <col style=\"\"/>\n",
       "   <col style=\"\"/>\n",
       "   <col style=\"\"/>\n",
       "   <col style=\"\"/>\n",
       "   <col style=\"\"/>\n",
       "  </colgroup>\n",
       "  <thead style=\"display:table-header-group;\">\n",
       "   <tr style=\"page-break-inside:avoid;\">\n",
       "    <th style=\"font-size:14px; background-color:rgb(255,255,255); text-align:left; vertical-align:baseline; font-weight:bold\">\n",
       "    </th>\n",
       "    <th colspan=\"1\" rowspan=\"1\" style=\"font-size:14px; background-color:rgb(255,255,255); text-align:left; vertical-align:baseline; font-weight:bold\">\n",
       "     A\n",
       "    </th>\n",
       "    <th colspan=\"1\" rowspan=\"1\" style=\"font-size:14px; background-color:rgb(255,255,255); text-align:left; vertical-align:baseline; font-weight:bold\">\n",
       "     B\n",
       "    </th>\n",
       "    <th colspan=\"1\" rowspan=\"1\" style=\"font-size:14px; background-color:rgb(255,255,255); text-align:left; vertical-align:baseline; font-weight:bold\">\n",
       "     C\n",
       "    </th>\n",
       "    <th colspan=\"1\" rowspan=\"1\" style=\"font-size:14px; background-color:rgb(255,255,255); text-align:left; vertical-align:baseline; font-weight:bold\">\n",
       "     D\n",
       "    </th>\n",
       "   </tr>\n",
       "  </thead>\n",
       "  <tbody>\n",
       "   <tr style=\"page-break-inside:avoid;\">\n",
       "    <td colspan=\"1\" rowspan=\"1\" style=\"font-size:14px; background-color:rgb(229,229,229); text-align:left; vertical-align:baseline; font-weight:bold\">\n",
       "     2000-01-01 00:00:00\n",
       "    </td>\n",
       "    <td style=\"font-size:14px; background-color:rgb(229,229,229); text-align:right\">\n",
       "     0.04\n",
       "    </td>\n",
       "    <td style=\"font-size:14px; background-color:rgb(229,229,229); text-align:right\">\n",
       "     0.01\n",
       "    </td>\n",
       "    <td style=\"font-size:14px; background-color:rgb(229,229,229); text-align:right\">\n",
       "     -0.04\n",
       "    </td>\n",
       "    <td style=\"font-size:14px; background-color:rgb(229,229,229); text-align:right\">\n",
       "     0.03\n",
       "    </td>\n",
       "   </tr>\n",
       "   <tr style=\"page-break-inside:avoid;\">\n",
       "    <td colspan=\"1\" rowspan=\"1\" style=\"font-size:14px; background-color:rgb(255,255,255); text-align:left; vertical-align:baseline; font-weight:bold\">\n",
       "     2000-01-02 00:00:00\n",
       "    </td>\n",
       "    <td style=\"font-size:14px; background-color:rgb(255,255,255); text-align:right\">\n",
       "     0.02\n",
       "    </td>\n",
       "    <td style=\"font-size:14px; background-color:rgb(255,255,255); text-align:right\">\n",
       "     -0.05\n",
       "    </td>\n",
       "    <td style=\"font-size:14px; background-color:rgb(255,255,255); text-align:right\">\n",
       "     0.01\n",
       "    </td>\n",
       "    <td style=\"font-size:14px; background-color:rgb(255,255,255); text-align:right\">\n",
       "     -0.04\n",
       "    </td>\n",
       "   </tr>\n",
       "   <tr style=\"page-break-inside:avoid;\">\n",
       "    <td colspan=\"1\" rowspan=\"1\" style=\"font-size:14px; background-color:rgb(229,229,229); text-align:left; vertical-align:baseline; font-weight:bold\">\n",
       "     2000-01-03 00:00:00\n",
       "    </td>\n",
       "    <td style=\"font-size:14px; background-color:rgb(229,229,229); text-align:right\">\n",
       "     -0.03\n",
       "    </td>\n",
       "    <td style=\"font-size:14px; background-color:rgb(229,229,229); text-align:right\">\n",
       "     0.03\n",
       "    </td>\n",
       "    <td style=\"font-size:14px; background-color:rgb(229,229,229); text-align:right\">\n",
       "     -0.02\n",
       "    </td>\n",
       "    <td style=\"font-size:14px; background-color:rgb(229,229,229); text-align:right\">\n",
       "     0.01\n",
       "    </td>\n",
       "   </tr>\n",
       "   <tr style=\"page-break-inside:avoid;\">\n",
       "    <td colspan=\"1\" rowspan=\"1\" style=\"font-size:14px; background-color:rgb(255,255,255); text-align:left; vertical-align:baseline; font-weight:bold\">\n",
       "     2000-01-04 00:00:00\n",
       "    </td>\n",
       "    <td style=\"font-size:14px; background-color:rgb(255,255,255); text-align:right\">\n",
       "     -0.02\n",
       "    </td>\n",
       "    <td style=\"font-size:14px; background-color:rgb(255,255,255); text-align:right\">\n",
       "     0.03\n",
       "    </td>\n",
       "    <td style=\"font-size:14px; background-color:rgb(255,255,255); text-align:right\">\n",
       "     -0.02\n",
       "    </td>\n",
       "    <td style=\"font-size:14px; background-color:rgb(255,255,255); text-align:right\">\n",
       "     -0.00\n",
       "    </td>\n",
       "   </tr>\n",
       "   <tr style=\"page-break-inside:avoid;\">\n",
       "    <td colspan=\"1\" rowspan=\"1\" style=\"font-size:14px; background-color:rgb(229,229,229); text-align:left; vertical-align:baseline; font-weight:bold\">\n",
       "     2000-01-05 00:00:00\n",
       "    </td>\n",
       "    <td style=\"font-size:14px; background-color:rgb(229,229,229); text-align:right\">\n",
       "     -0.04\n",
       "    </td>\n",
       "    <td style=\"font-size:14px; background-color:rgb(229,229,229); text-align:right\">\n",
       "     0.04\n",
       "    </td>\n",
       "    <td style=\"font-size:14px; background-color:rgb(229,229,229); text-align:right\">\n",
       "     -0.04\n",
       "    </td>\n",
       "    <td style=\"font-size:14px; background-color:rgb(229,229,229); text-align:right\">\n",
       "     -0.01\n",
       "    </td>\n",
       "   </tr>\n",
       "  </tbody>\n",
       " </table>\n",
       "</div>\n"
      ],
      "text/plain": [
       "<pybloqs.block.table.HTMLJinjaTableBlock at 0x7a79a021bd90>"
      ]
     },
     "execution_count": 5,
     "metadata": {},
     "output_type": "execute_result"
    }
   ],
   "source": [
    "pybloqs.Block(df.head(), background=\"#eee\")"
   ]
  },
  {
   "cell_type": "markdown",
   "metadata": {},
   "source": [
    "Or matplotlib plots"
   ]
  },
  {
   "cell_type": "code",
   "execution_count": 6,
   "metadata": {},
   "outputs": [
    {
     "data": {
      "text/html": [
       "<div class=\"pybloqs\" style=\"background:#eee\">\n",
       " <img src=\"data:image/png;base64,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\" style=\"width:6.400in;height:4.800in\"/>\n",
       "</div>\n"
      ],
      "text/plain": [
       "<pybloqs.block.image.PlotBlock at 0x7a7950a15ab0>"
      ]
     },
     "execution_count": 6,
     "metadata": {},
     "output_type": "execute_result"
    }
   ],
   "source": [
    "pybloqs.Block(df.A.plot(), background=\"#eee\")"
   ]
  },
  {
   "cell_type": "markdown",
   "metadata": {},
   "source": [
    "Raw HTML output"
   ]
  },
  {
   "cell_type": "code",
   "execution_count": 7,
   "metadata": {},
   "outputs": [
    {
     "data": {
      "text/html": [
       "<div class=\"pybloqs\" style=\"background:#eee\">\n",
       " <i>\n",
       "  This\n",
       " </i>\n",
       " block has\n",
       " <code>\n",
       "  html\n",
       " </code>\n",
       "</div>\n"
      ],
      "text/plain": [
       "<pybloqs.block.text.Raw at 0x7a79505bf7c0>"
      ]
     },
     "execution_count": 7,
     "metadata": {},
     "output_type": "execute_result"
    }
   ],
   "source": [
    "pybloqs.Block(\"<i>This</i> block has <code>html</code>\", background=\"#eee\")"
   ]
  },
  {
   "cell_type": "markdown",
   "metadata": {},
   "source": [
    "## Composing blocks\n",
    "\n",
    "Pybloqs' power comes with its ability to _compose_ individual blocks into larger reports.\n",
    "\n",
    "There are a number of block types such as `VStack` and `HStack` you can use to do this."
   ]
  },
  {
   "cell_type": "code",
   "execution_count": 8,
   "metadata": {},
   "outputs": [
    {
     "data": {
      "text/html": [
       "<div class=\"pybloqs\" style=\"background:#eee\">\n",
       " <div>\n",
       "  <div class=\"pybloqs\" style=\"background:#eee\">\n",
       "   <H3 style=\"white-space: nowrap\">\n",
       "    Announcement\n",
       "   </H3>\n",
       "   Hello World!\n",
       "  </div>\n",
       " </div>\n",
       " <div>\n",
       "  <div class=\"pybloqs\" style=\"background:#eee\">\n",
       "   <b>\n",
       "    this text is bold\n",
       "   </b>\n",
       "  </div>\n",
       " </div>\n",
       "</div>\n"
      ],
      "text/plain": [
       "<pybloqs.block.layout.VStack at 0x7a79505bfe80>"
      ]
     },
     "execution_count": 8,
     "metadata": {},
     "output_type": "execute_result"
    }
   ],
   "source": [
    "pybloqs.VStack(\n",
    "    [\n",
    "        pybloqs.Block(\"Hello World!\", title=\"Announcement\", title_level=3),\n",
    "        pybloqs.Block(\"<b>this text is bold</b>\"),\n",
    "    ],\n",
    "    background=\"#eee\",\n",
    ")"
   ]
  },
  {
   "cell_type": "markdown",
   "metadata": {},
   "source": [
    "In fact, the `pybloqs.Block` helper method, lets you pass in a list and it will vertically stack the blocks. Here we can even just pass in strings which will be \"blockified\" before being composed."
   ]
  },
  {
   "cell_type": "code",
   "execution_count": 9,
   "metadata": {},
   "outputs": [
    {
     "data": {
      "text/html": [
       "<div class=\"pybloqs\" style=\"background:#eee\">\n",
       " <div class=\"pybloqs-grid-row\">\n",
       "  <div class=\"pybloqs-grid-cell\" style=\"width:100.000000%;float:left;\">\n",
       "   <div class=\"pybloqs\" style=\"background:#eee\">\n",
       "    Block 0\n",
       "   </div>\n",
       "  </div>\n",
       " </div>\n",
       " <div class=\"pybloqs-grid-row\" style=\"clear:both\">\n",
       "  <div class=\"pybloqs-grid-cell\" style=\"width:100.000000%;float:left;\">\n",
       "   <div class=\"pybloqs\" style=\"background:#eee\">\n",
       "    Block 1\n",
       "   </div>\n",
       "  </div>\n",
       " </div>\n",
       " <div class=\"pybloqs-grid-row\" style=\"clear:both\">\n",
       "  <div class=\"pybloqs-grid-cell\" style=\"width:100.000000%;float:left;\">\n",
       "   <div class=\"pybloqs\" style=\"background:#eee\">\n",
       "    Block 2\n",
       "   </div>\n",
       "  </div>\n",
       " </div>\n",
       " <div class=\"pybloqs-grid-row\" style=\"clear:both\">\n",
       "  <div class=\"pybloqs-grid-cell\" style=\"width:100.000000%;float:left;\">\n",
       "   <div class=\"pybloqs\" style=\"background:#eee\">\n",
       "    Block 3\n",
       "   </div>\n",
       "  </div>\n",
       " </div>\n",
       " <div class=\"pybloqs-grid-row\" style=\"clear:both\">\n",
       "  <div class=\"pybloqs-grid-cell\" style=\"width:100.000000%;float:left;\">\n",
       "   <div class=\"pybloqs\" style=\"background:#eee\">\n",
       "    Block 4\n",
       "   </div>\n",
       "  </div>\n",
       " </div>\n",
       " <div class=\"pybloqs-grid-row\" style=\"clear:both\">\n",
       "  <div class=\"pybloqs-grid-cell\" style=\"width:100.000000%;float:left;\">\n",
       "   <div class=\"pybloqs\" style=\"background:#eee\">\n",
       "    Block 5\n",
       "   </div>\n",
       "  </div>\n",
       " </div>\n",
       " <div class=\"pybloqs-grid-row\" style=\"clear:both\">\n",
       "  <div class=\"pybloqs-grid-cell\" style=\"width:100.000000%;float:left;\">\n",
       "   <div class=\"pybloqs\" style=\"background:#eee\">\n",
       "    Block 6\n",
       "   </div>\n",
       "  </div>\n",
       " </div>\n",
       " <div class=\"pybloqs-grid-row\" style=\"clear:both\">\n",
       "  <div class=\"pybloqs-grid-cell\" style=\"width:100.000000%;float:left;\">\n",
       "   <div class=\"pybloqs\" style=\"background:#eee\">\n",
       "    Block 7\n",
       "   </div>\n",
       "  </div>\n",
       " </div>\n",
       " <div style=\"clear:both\">\n",
       " </div>\n",
       "</div>\n"
      ],
      "text/plain": [
       "<pybloqs.block.layout.Grid at 0x7a79505bfd90>"
      ]
     },
     "execution_count": 9,
     "metadata": {},
     "output_type": "execute_result"
    }
   ],
   "source": [
    "pybloqs.Block([f\"Block {i}\" for i in range(8)], background=\"#eee\")"
   ]
  },
  {
   "cell_type": "markdown",
   "metadata": {},
   "source": [
    "We can split the list into multiple columns:"
   ]
  },
  {
   "cell_type": "code",
   "execution_count": 10,
   "metadata": {},
   "outputs": [
    {
     "data": {
      "text/html": [
       "<div class=\"pybloqs\" style=\"background:#eee\">\n",
       " <div class=\"pybloqs-grid-row\">\n",
       "  <div class=\"pybloqs-grid-cell\" style=\"width:25.000000%;float:left;\">\n",
       "   <div class=\"pybloqs\" style=\"background:#eee\">\n",
       "    Block 0\n",
       "   </div>\n",
       "  </div>\n",
       "  <div class=\"pybloqs-grid-cell\" style=\"width:25.000000%;float:left;\">\n",
       "   <div class=\"pybloqs\" style=\"background:#eee\">\n",
       "    Block 1\n",
       "   </div>\n",
       "  </div>\n",
       "  <div class=\"pybloqs-grid-cell\" style=\"width:25.000000%;float:left;\">\n",
       "   <div class=\"pybloqs\" style=\"background:#eee\">\n",
       "    Block 2\n",
       "   </div>\n",
       "  </div>\n",
       "  <div class=\"pybloqs-grid-cell\" style=\"width:25.000000%;float:left;\">\n",
       "   <div class=\"pybloqs\" style=\"background:#eee\">\n",
       "    Block 3\n",
       "   </div>\n",
       "  </div>\n",
       " </div>\n",
       " <div class=\"pybloqs-grid-row\" style=\"clear:both\">\n",
       "  <div class=\"pybloqs-grid-cell\" style=\"width:25.000000%;float:left;\">\n",
       "   <div class=\"pybloqs\" style=\"background:#eee\">\n",
       "    Block 4\n",
       "   </div>\n",
       "  </div>\n",
       "  <div class=\"pybloqs-grid-cell\" style=\"width:25.000000%;float:left;\">\n",
       "   <div class=\"pybloqs\" style=\"background:#eee\">\n",
       "    Block 5\n",
       "   </div>\n",
       "  </div>\n",
       "  <div class=\"pybloqs-grid-cell\" style=\"width:25.000000%;float:left;\">\n",
       "   <div class=\"pybloqs\" style=\"background:#eee\">\n",
       "    Block 6\n",
       "   </div>\n",
       "  </div>\n",
       "  <div class=\"pybloqs-grid-cell\" style=\"width:25.000000%;float:left;\">\n",
       "   <div class=\"pybloqs\" style=\"background:#eee\">\n",
       "    Block 7\n",
       "   </div>\n",
       "  </div>\n",
       " </div>\n",
       " <div style=\"clear:both\">\n",
       " </div>\n",
       "</div>\n"
      ],
      "text/plain": [
       "<pybloqs.block.layout.Grid at 0x7a79505bfbb0>"
      ]
     },
     "execution_count": 10,
     "metadata": {},
     "output_type": "execute_result"
    }
   ],
   "source": [
    "pybloqs.Block([f\"Block {i}\" for i in range(8)], cols=4, background=\"#eee\")"
   ]
  },
  {
   "cell_type": "markdown",
   "metadata": {},
   "source": [
    "Layout styling is cascading - styles will cascade from parent blocks to child blocks by default. This behavior can be disabled by setting *inherit_cfg* to false on the child blocks, or simply specifying the desired settings explicitly."
   ]
  },
  {
   "cell_type": "code",
   "execution_count": 11,
   "metadata": {},
   "outputs": [
    {
     "data": {
      "text/html": [
       "<div class=\"pybloqs\" style=\"background:#eee;text-align:right\">\n",
       " <div class=\"pybloqs-grid-row\">\n",
       "  <div class=\"pybloqs-grid-cell\" style=\"width:25.000000%;float:left;\">\n",
       "   <div class=\"pybloqs\" style=\"background:#eee;text-align:right\">\n",
       "    Block 0\n",
       "   </div>\n",
       "  </div>\n",
       "  <div class=\"pybloqs-grid-cell\" style=\"width:25.000000%;float:left;\">\n",
       "   <div class=\"pybloqs\" style=\"background:#eee;text-align:right\">\n",
       "    Block 1\n",
       "   </div>\n",
       "  </div>\n",
       "  <div class=\"pybloqs-grid-cell\" style=\"width:25.000000%;float:left;\">\n",
       "   <div class=\"pybloqs\" style=\"background:#eee;text-align:right\">\n",
       "    Block 2\n",
       "   </div>\n",
       "  </div>\n",
       "  <div class=\"pybloqs-grid-cell\" style=\"width:25.000000%;float:left;\">\n",
       "   <div class=\"pybloqs\" style=\"background:#eee;text-align:right\">\n",
       "    Block 3\n",
       "   </div>\n",
       "  </div>\n",
       " </div>\n",
       " <div class=\"pybloqs-grid-row\" style=\"clear:both\">\n",
       "  <div class=\"pybloqs-grid-cell\" style=\"width:25.000000%;float:left;\">\n",
       "   <div class=\"pybloqs\" style=\"background:#eee;text-align:right\">\n",
       "    Block 4\n",
       "   </div>\n",
       "  </div>\n",
       "  <div class=\"pybloqs-grid-cell\" style=\"width:25.000000%;float:left;\">\n",
       "   <div class=\"pybloqs\" style=\"background:#eee;text-align:right\">\n",
       "    Block 5\n",
       "   </div>\n",
       "  </div>\n",
       "  <div class=\"pybloqs-grid-cell\" style=\"width:25.000000%;float:left;\">\n",
       "   <div class=\"pybloqs\" style=\"background:#eee;text-align:right\">\n",
       "    Block 6\n",
       "   </div>\n",
       "  </div>\n",
       "  <div class=\"pybloqs-grid-cell\" style=\"width:25.000000%;float:left;\">\n",
       "   <div class=\"pybloqs\" style=\"background:#eee;text-align:right\">\n",
       "    Block 7\n",
       "   </div>\n",
       "  </div>\n",
       " </div>\n",
       " <div style=\"clear:both\">\n",
       " </div>\n",
       "</div>\n"
      ],
      "text/plain": [
       "<pybloqs.block.layout.Grid at 0x7a7950615300>"
      ]
     },
     "execution_count": 11,
     "metadata": {},
     "output_type": "execute_result"
    }
   ],
   "source": [
    "pybloqs.Block(\n",
    "    [f\"Block {i}\" for i in range(8)], cols=4, text_align=\"right\", background=\"#eee\"\n",
    ")"
   ]
  },
  {
   "cell_type": "markdown",
   "metadata": {},
   "source": [
    "Using specific block types is simple as well. As an example - the Paragraph block:"
   ]
  },
  {
   "cell_type": "code",
   "execution_count": 12,
   "metadata": {},
   "outputs": [
    {
     "data": {
      "text/html": [
       "<div class=\"pybloqs\" style=\"background:#eee;text-align:right\">\n",
       " <div class=\"pybloqs-grid-row\">\n",
       "  <div class=\"pybloqs-grid-cell\" style=\"width:100.000000%;float:left;\">\n",
       "   <p class=\"pybloqs\" style=\"background:#eee;text-align:right\">\n",
       "    <div class=\"pybloqs\" style=\"background:#eee;text-align:right\">\n",
       "     First paragraph.\n",
       "    </div>\n",
       "   </p>\n",
       "  </div>\n",
       " </div>\n",
       " <div class=\"pybloqs-grid-row\" style=\"clear:both\">\n",
       "  <div class=\"pybloqs-grid-cell\" style=\"width:100.000000%;float:left;\">\n",
       "   <p class=\"pybloqs\" style=\"background:#eee;text-align:right\">\n",
       "    <div class=\"pybloqs\" style=\"background:#eee;text-align:right\">\n",
       "     Second paragraph.\n",
       "    </div>\n",
       "   </p>\n",
       "  </div>\n",
       " </div>\n",
       " <div class=\"pybloqs-grid-row\" style=\"clear:both\">\n",
       "  <div class=\"pybloqs-grid-cell\" style=\"width:100.000000%;float:left;\">\n",
       "   <p class=\"pybloqs\" style=\"background:#eee;text-align:right\">\n",
       "    <div class=\"pybloqs\" style=\"background:#eee;text-align:right\">\n",
       "     Third paragraph.\n",
       "    </div>\n",
       "   </p>\n",
       "  </div>\n",
       " </div>\n",
       " <div style=\"clear:both\">\n",
       " </div>\n",
       "</div>\n"
      ],
      "text/plain": [
       "<pybloqs.block.layout.Grid at 0x7a7950a152a0>"
      ]
     },
     "execution_count": 12,
     "metadata": {},
     "output_type": "execute_result"
    }
   ],
   "source": [
    "pybloqs.Block(\n",
    "    [\n",
    "        pybloqs.Paragraph(\"First paragraph.\"),\n",
    "        pybloqs.Paragraph(\"Second paragraph.\"),\n",
    "        pybloqs.Paragraph(\"Third paragraph.\"),\n",
    "    ],\n",
    "    text_align=\"right\",\n",
    "    background=\"#eee\",\n",
    ")"
   ]
  },
  {
   "cell_type": "markdown",
   "metadata": {},
   "source": [
    "The Pre block preserves whitespace formatting and is rendered using a fixed width font. Useful for rendering code-like text."
   ]
  },
  {
   "cell_type": "code",
   "execution_count": 13,
   "metadata": {},
   "outputs": [
    {
     "data": {
      "text/html": [
       "<pre class=\"pybloqs\">\n",
       "some:\n",
       "  example:\n",
       "    yaml: [1,2,3]\n",
       "  data: \"text\"\n",
       "</pre>\n"
      ],
      "text/plain": [
       "<pybloqs.block.text.Pre at 0x7a79505bcd00>"
      ]
     },
     "execution_count": 13,
     "metadata": {},
     "output_type": "execute_result"
    }
   ],
   "source": [
    "pybloqs.Pre(\"\"\"\n",
    "some:\n",
    "  example:\n",
    "    yaml: [1,2,3]\n",
    "  data: \"text\"\n",
    "\"\"\")"
   ]
  },
  {
   "cell_type": "markdown",
   "metadata": {},
   "source": [
    "Creating custom blocks is trivial. For the majority of the cases, one can just inherit from the Container block, which has most of the plumbing already in place:"
   ]
  },
  {
   "cell_type": "code",
   "execution_count": 14,
   "metadata": {},
   "outputs": [
    {
     "data": {
      "text/html": [
       "<div class=\"pybloqs\" style=\"background:#eee\">\n",
       " THIS HERE TEXT SHOULD LOOK LIKE SHOUTING!\n",
       "</div>\n"
      ],
      "text/plain": [
       "<__main__.Capitalize at 0x7a79a0196e00>"
      ]
     },
     "execution_count": 14,
     "metadata": {},
     "output_type": "execute_result"
    }
   ],
   "source": [
    "class Capitalize(pybloqs.Raw):\n",
    "    def __init__(self, contents, **kwargs):\n",
    "        # Stringify and capitalize\n",
    "        contents = str(contents).upper()\n",
    "\n",
    "        super().__init__(contents, **kwargs)\n",
    "\n",
    "\n",
    "Capitalize(\n",
    "    \"this here text should look like shouting!\",\n",
    "    background=\"#eee\",\n",
    ")"
   ]
  },
  {
   "cell_type": "code",
   "execution_count": 15,
   "metadata": {},
   "outputs": [
    {
     "data": {
      "text/plain": [
       "\"Please create ~/.pybloqs.cfg with entry for 'smtp_server'. See README.md and pybloqs/config.py for details.\""
      ]
     },
     "metadata": {},
     "output_type": "display_data"
    }
   ],
   "source": [
    "# Emails a block (or a report consisting of many blocks).\n",
    "# The emailing is independent of previous reports being\n",
    "# saved (e.g. there is no need to call save before emailing).\n",
    "from smtplib import SMTPServerDisconnected\n",
    "\n",
    "try:\n",
    "    pybloqs.Block(\"\").email()\n",
    "except SMTPServerDisconnected:\n",
    "    display(\n",
    "        \"Please create ~/.pybloqs.cfg with entry for 'smtp_server'. See README.md and pybloqs/config.py for details.\"\n",
    "    )"
   ]
  },
  {
   "cell_type": "markdown",
   "metadata": {},
   "source": [
    "## Page break"
   ]
  },
  {
   "cell_type": "code",
   "execution_count": 16,
   "metadata": {},
   "outputs": [
    {
     "name": "stderr",
     "output_type": "stream",
     "text": [
      "Loading pages (1/6)\n",
      "Counting pages (2/6)                                               \n",
      "Resolving links (4/6)                                                       \n",
      "Loading headers and footers (5/6)                                           \n",
      "Printing pages (6/6)\n",
      "Done                                                                      \n"
     ]
    },
    {
     "data": {
      "text/plain": [
       "'two_page_report.pdf'"
      ]
     },
     "execution_count": 16,
     "metadata": {},
     "output_type": "execute_result"
    }
   ],
   "source": [
    "blocks = [\n",
    "    pybloqs.Block(\"First page\", styles={\"page-break-after\": \"always\"}),\n",
    "    pybloqs.Block(\"Second page\"),\n",
    "]\n",
    "r = pybloqs.VStack(blocks)\n",
    "r.save(\"two_page_report.pdf\")"
   ]
  },
  {
   "cell_type": "code",
   "execution_count": null,
   "metadata": {},
   "outputs": [],
   "source": []
  }
 ],
 "metadata": {
  "kernelspec": {
   "display_name": "Python 3",
   "language": "python",
   "name": "python3"
  },
  "language_info": {
   "codemirror_mode": {
    "name": "ipython",
    "version": 3
   },
   "file_extension": ".py",
   "mimetype": "text/x-python",
   "name": "python",
   "nbconvert_exporter": "python",
   "pygments_lexer": "ipython3",
   "version": "3.10.12"
  }
 },
 "nbformat": 4,
 "nbformat_minor": 1
}
