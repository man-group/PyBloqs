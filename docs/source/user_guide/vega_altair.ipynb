{
 "cells": [
  {
   "cell_type": "markdown",
   "id": "28c3302a-7b36-4ab0-9697-d1f812cb2777",
   "metadata": {},
   "source": [
    "## Vega-Altair Charts Integration\n",
    "\n",
    "PyBloqs also supports altair visualization. Vega-Altair is a Vega-Altair is a declarative visualisation library with a simple, friendly and consistent API, built on top of the powerful Vega-Lite grammar.\n",
    "You can find its user guide [here](https://altair-viz.github.io/user_guide/data.html#user-guide-data)\n",
    "\n",
    "Similarly to the other interactive plots, this will be rendered in HTML and will rely on your browser's CSS and JS capabilities to provide interactivity."
   ]
  },
  {
   "cell_type": "code",
   "execution_count": 1,
   "id": "95e7efce-9b37-49b5-8326-822f2021b3e9",
   "metadata": {
    "jupyter": {
     "source_hidden": true
    }
   },
   "outputs": [],
   "source": [
    "import numpy as np\n",
    "import pandas as pd\n",
    "\n",
    "x = np.random.uniform(-3, 3, size=40)\n",
    "y = np.sin(x)\n",
    "data = pd.DataFrame({\"x\": x, \"y\": y})"
   ]
  },
  {
   "cell_type": "code",
   "execution_count": 2,
   "id": "097c4340-d0dd-4368-a58a-8d63b96dc787",
   "metadata": {},
   "outputs": [
    {
     "data": {
      "text/html": [
       "<div class=\"pybloqs\">\n",
       " <H3 style=\"white-space: nowrap\">\n",
       "  Sine Wave\n",
       " </H3>\n",
       " <style>\n",
       "  #vis.vega-embed {\n",
       "      width: 100%;\n",
       "      display: flex;\n",
       "    }\n",
       "\n",
       "    #vis.vega-embed details,\n",
       "    #vis.vega-embed details summary {\n",
       "      position: relative;\n",
       "    }\n",
       " </style>\n",
       " <script src=\"https://cdn.jsdelivr.net/npm/vega@5\" type=\"text/javascript\">\n",
       " </script>\n",
       " <script src=\"https://cdn.jsdelivr.net/npm/vega-lite@5.20.1\" type=\"text/javascript\">\n",
       " </script>\n",
       " <script src=\"https://cdn.jsdelivr.net/npm/vega-embed@6\" type=\"text/javascript\">\n",
       " </script>\n",
       " <div id=\"vis\">\n",
       " </div>\n",
       " <script>\n",
       "  (function(vegaEmbed) {\n",
       "      var spec = {\"config\": {\"view\": {\"continuousWidth\": 300, \"continuousHeight\": 300}}, \"data\": {\"name\": \"data-0c5b0d45a5acdb8d90d150bc75d93ed2\"}, \"mark\": {\"type\": \"point\"}, \"encoding\": {\"x\": {\"field\": \"x\", \"type\": \"quantitative\"}, \"y\": {\"field\": \"y\", \"type\": \"quantitative\"}}, \"$schema\": \"https://vega.github.io/schema/vega-lite/v5.20.1.json\", \"datasets\": {\"data-0c5b0d45a5acdb8d90d150bc75d93ed2\": [{\"x\": -0.8838007219591661, \"y\": -0.7731549405710707}, {\"x\": 1.5404102662143746, \"y\": 0.999538379181201}, {\"x\": -2.6318729586730716, \"y\": -0.48793259298594227}, {\"x\": 0.9513767263339088, \"y\": 0.8142155520999064}, {\"x\": -0.5048494461402466, \"y\": -0.4836756739462733}, {\"x\": 1.6735585864555702, \"y\": 0.9947246038316232}, {\"x\": 2.684911232390766, \"y\": 0.44097204701043813}, {\"x\": -1.0798970981216127, \"y\": -0.8819093016415864}, {\"x\": 1.7468659363402974, \"y\": 0.9845397479192176}, {\"x\": -0.2603613984359834, \"y\": -0.2574297869227056}, {\"x\": -2.170686919712942, \"y\": -0.8253973858553204}, {\"x\": -0.19136581201976188, \"y\": -0.19019995159460729}, {\"x\": -0.9929645802962472, \"y\": -0.8376489375640185}, {\"x\": 2.224554735081332, \"y\": 0.7938036437146675}, {\"x\": -0.9240159576667342, \"y\": -0.7980281459099567}, {\"x\": 2.3674061586343527, \"y\": 0.6991346587628654}, {\"x\": 0.5690074353181771, \"y\": 0.538796141879058}, {\"x\": 1.063723148730329, \"y\": 0.874169575393238}, {\"x\": 1.3115369338401113, \"y\": 0.9665801087531696}, {\"x\": 1.497515403123618, \"y\": 0.9973161544773406}, {\"x\": -1.176932011640137, \"y\": -0.9234329898663061}, {\"x\": -1.7819424226324898, \"y\": -0.9777913574137579}, {\"x\": -2.5892566762297453, \"y\": -0.5246772790052641}, {\"x\": 1.9257974546554095, \"y\": 0.9376460967853053}, {\"x\": 1.375228059909353, \"y\": 0.9809374000466475}, {\"x\": 1.5446986478261824, \"y\": 0.9996594749042016}, {\"x\": -2.471089297074404, \"y\": -0.6213804500934041}, {\"x\": -0.9085927021026228, \"y\": -0.7886392350713051}, {\"x\": -0.6084913514764301, \"y\": -0.5716302478687046}, {\"x\": 0.3200619831931997, \"y\": 0.31462539665412187}, {\"x\": -1.063530737634956, \"y\": -0.8740761203835571}, {\"x\": 0.9131003172346386, \"y\": 0.7914027488276034}, {\"x\": -0.19776029363073278, \"y\": -0.1964737729827932}, {\"x\": 1.5029129623266773, \"y\": 0.9976968090723907}, {\"x\": -1.8198543357164696, \"y\": -0.9691450441177372}, {\"x\": -0.572417831596788, \"y\": -0.5416660442104593}, {\"x\": -2.0515582216358004, \"y\": -0.8866428381987842}, {\"x\": 0.11961068365837679, \"y\": 0.11932568160041794}, {\"x\": 1.2728062239801572, \"y\": 0.955928524327854}, {\"x\": 0.010760679911925308, \"y\": 0.01076047224593651}]}};\n",
       "      var embedOpt = {\"mode\": \"vega-lite\"};\n",
       "\n",
       "      function showError(el, error){\n",
       "          el.innerHTML = ('<div style=\"color:red;\">'\n",
       "                          + '<p>JavaScript Error: ' + error.message + '</p>'\n",
       "                          + \"<p>This usually means there's a typo in your chart specification. \"\n",
       "                          + \"See the javascript console for the full traceback.</p>\"\n",
       "                          + '</div>');\n",
       "          throw error;\n",
       "      }\n",
       "      const el = document.getElementById('vis');\n",
       "      vegaEmbed(\"#vis\", spec, embedOpt)\n",
       "        .catch(error => showError(el, error));\n",
       "    })(vegaEmbed);\n",
       " </script>\n",
       "</div>\n"
      ],
      "text/plain": [
       "<pybloqs.block.altair.VegaAltairBlock at 0x244cfa3fbc0>"
      ]
     },
     "execution_count": 2,
     "metadata": {},
     "output_type": "execute_result"
    }
   ],
   "source": [
    "import altair as alt\n",
    "from pybloqs.block.altair import VegaAltairBlock\n",
    "\n",
    "chart = alt.Chart(data).mark_point().encode(x=\"x\", y=\"y\")\n",
    "\n",
    "VegaAltairBlock(chart, title=\"Sine Wave\")"
   ]
  }
 ],
 "metadata": {
  "kernelspec": {
   "display_name": "Python 3 (ipykernel)",
   "language": "python",
   "name": "python3"
  },
  "language_info": {
   "codemirror_mode": {
    "name": "ipython",
    "version": 3
   },
   "file_extension": ".py",
   "mimetype": "text/x-python",
   "name": "python",
   "nbconvert_exporter": "python",
   "pygments_lexer": "ipython3",
   "version": "3.12.1"
  }
 },
 "nbformat": 4,
 "nbformat_minor": 5
}
