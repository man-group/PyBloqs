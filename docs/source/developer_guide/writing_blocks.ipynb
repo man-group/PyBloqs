{
 "cells": [
  {
   "cell_type": "markdown",
   "metadata": {},
   "source": [
    "# Writing Custom PyBloqs"
   ]
  },
  {
   "cell_type": "markdown",
   "metadata": {},
   "source": [
    "Writing custom PyBloqs to embed your own HTML and visualisations is very easy and highly customisable.  In this doucmentation we will build a custom PyBloq and show how to manage resources (CSS and JavaScript)."
   ]
  },
  {
   "cell_type": "code",
   "execution_count": 1,
   "metadata": {
    "tags": [
     "hide-cell"
    ]
   },
   "outputs": [],
   "source": [
    "from typing import Iterator, Optional\n",
    "\n",
    "import pybloqs\n",
    "import bs4"
   ]
  },
  {
   "cell_type": "markdown",
   "metadata": {},
   "source": [
    "We will be  writing a \"metric block\". This is a block that will highlight display a single number, along with its change from a previous value.\n",
    "\n",
    "To do this, we extend `pybloqs.BaseBlock`. The only method we need to provide is `_write_contents` which we can stub for now. We also create a constructor which stores the data we want to show."
   ]
  },
  {
   "cell_type": "code",
   "execution_count": 2,
   "metadata": {},
   "outputs": [],
   "source": [
    "class MetricBlock(pybloqs.BaseBlock):\n",
    "    def __init__(\n",
    "        self, metric_name: str, metric_value: float, metric_delta: float, **kwargs\n",
    "    ) -> None:\n",
    "        super().__init__(**kwargs)\n",
    "\n",
    "        self.metric_name = metric_name\n",
    "        self.metric_value = metric_value\n",
    "        self.metric_delta = metric_delta\n",
    "\n",
    "    def _write_contents(\n",
    "        self,\n",
    "        container: bs4.Tag,\n",
    "        actual_cfg: pybloqs.util.Cfg,\n",
    "        id_gen: Iterator[str],\n",
    "        resource_deps=None,\n",
    "        static_output: Optional[bool] = None,\n",
    "    ) -> None:\n",
    "        pass"
   ]
  },
  {
   "cell_type": "markdown",
   "metadata": {},
   "source": [
    "Believe it or not, that is sufficient to render something to screen:"
   ]
  },
  {
   "cell_type": "code",
   "execution_count": 3,
   "metadata": {},
   "outputs": [
    {
     "data": {
      "text/html": [
       "<div class=\"pybloqs\">\n",
       " <H4 style=\"white-space: nowrap\">\n",
       "  Our metric\n",
       " </H4>\n",
       "</div>\n",
       "<style type=\"text/css\">\n",
       " .pybloqs {\n",
       "    font-family: Helvetica, \"Lucida Grande\", \"Lucida Sans Unicode\", Verdana, Arial, sans-serif;\n",
       "}\n",
       "\n",
       ".pybloqs pre code {\n",
       "    display: block;\n",
       "    margin-left: 1em;\n",
       "    font-family: monospace;\n",
       "}\n",
       "\n",
       "@media print {\n",
       "\t#footer {\n",
       "\t    position: fixed;\n",
       "\t    bottom: 0;\n",
       "\t}\n",
       "}\n",
       "</style>\n"
      ],
      "text/plain": [
       "<__main__.MetricBlock at 0x7a9774b09990>"
      ]
     },
     "execution_count": 3,
     "metadata": {},
     "output_type": "execute_result"
    }
   ],
   "source": [
    "MetricBlock(\"Widgets made\", 20, 3, title=\"Our metric\", title_level=4)"
   ]
  },
  {
   "cell_type": "markdown",
   "metadata": {},
   "source": [
    "However, as you can see we haven't rendered any acutal data. Lets fill in `_write_contents`. The arguments to this function can mostly be ignored, apart from `container`. This is a [BeautifulSoup `Tag`](https://www.crummy.com/software/BeautifulSoup/bs4/doc/#bs4.Tag) into which we must render our block.\n",
    "\n",
    "PyBloqs provides `pybloqs.html.append_to` as a helper function to add children to tags. Lets add three: one for the value, one for the name and one for the change."
   ]
  },
  {
   "cell_type": "code",
   "execution_count": 4,
   "metadata": {},
   "outputs": [
    {
     "data": {
      "text/html": [
       "<div class=\"pybloqs\">\n",
       " <H4 style=\"white-space: nowrap\">\n",
       "  Our metric\n",
       " </H4>\n",
       " <span>\n",
       "  20\n",
       " </span>\n",
       " <span>\n",
       "  Widgets made\n",
       " </span>\n",
       " <span>\n",
       "  +3\n",
       " </span>\n",
       "</div>\n",
       "<style type=\"text/css\">\n",
       " .pybloqs {\n",
       "    font-family: Helvetica, \"Lucida Grande\", \"Lucida Sans Unicode\", Verdana, Arial, sans-serif;\n",
       "}\n",
       "\n",
       ".pybloqs pre code {\n",
       "    display: block;\n",
       "    margin-left: 1em;\n",
       "    font-family: monospace;\n",
       "}\n",
       "\n",
       "@media print {\n",
       "\t#footer {\n",
       "\t    position: fixed;\n",
       "\t    bottom: 0;\n",
       "\t}\n",
       "}\n",
       "</style>\n"
      ],
      "text/plain": [
       "<__main__.MetricBlock at 0x7a9774b092d0>"
      ]
     },
     "execution_count": 4,
     "metadata": {},
     "output_type": "execute_result"
    }
   ],
   "source": [
    "from pybloqs.html import append_to\n",
    "\n",
    "\n",
    "class MetricBlock(pybloqs.BaseBlock):\n",
    "    def __init__(\n",
    "        self, metric_name: str, metric_value: float, metric_delta: float, **kwargs\n",
    "    ) -> None:\n",
    "        super().__init__(**kwargs)\n",
    "\n",
    "        self.metric_name = metric_name\n",
    "        self.metric_value = metric_value\n",
    "        self.metric_delta = metric_delta\n",
    "\n",
    "    def _write_contents(\n",
    "        self,\n",
    "        container: bs4.Tag,\n",
    "        actual_cfg: pybloqs.util.Cfg,\n",
    "        id_gen: Iterator[str],\n",
    "        resource_deps=None,\n",
    "        static_output: Optional[bool] = None,\n",
    "    ) -> None:\n",
    "        metric_span = append_to(container, \"span\")\n",
    "        metric_span.string = f\"{self.metric_value}\"\n",
    "        name_span = append_to(container, \"span\")\n",
    "        name_span.string = self.metric_name\n",
    "        metric_delta = append_to(container, \"span\")\n",
    "        metric_delta.string = f\"{self.metric_delta:+}\"\n",
    "\n",
    "\n",
    "MetricBlock(\"Widgets made\", 20, 3, title=\"Our metric\", title_level=4)"
   ]
  },
  {
   "cell_type": "markdown",
   "metadata": {},
   "source": [
    "We can add tag attributes to these.  Here we set the `style` attribute to add some styling."
   ]
  },
  {
   "cell_type": "code",
   "execution_count": 5,
   "metadata": {},
   "outputs": [
    {
     "data": {
      "text/html": [
       "<div class=\"pybloqs\">\n",
       " <H4 style=\"white-space: nowrap\">\n",
       "  Our metric\n",
       " </H4>\n",
       " <span style=\"font-size: 2rem;\">\n",
       "  20\n",
       " </span>\n",
       " <span style=\"font-weight:bold\">\n",
       "  Widgets made\n",
       " </span>\n",
       " <span style=\"color:green;\">\n",
       "  (+3)\n",
       " </span>\n",
       "</div>\n",
       "<style type=\"text/css\">\n",
       " .pybloqs {\n",
       "    font-family: Helvetica, \"Lucida Grande\", \"Lucida Sans Unicode\", Verdana, Arial, sans-serif;\n",
       "}\n",
       "\n",
       ".pybloqs pre code {\n",
       "    display: block;\n",
       "    margin-left: 1em;\n",
       "    font-family: monospace;\n",
       "}\n",
       "\n",
       "@media print {\n",
       "\t#footer {\n",
       "\t    position: fixed;\n",
       "\t    bottom: 0;\n",
       "\t}\n",
       "}\n",
       "</style>\n"
      ],
      "text/plain": [
       "<__main__.MetricBlock at 0x7a9774b09780>"
      ]
     },
     "execution_count": 5,
     "metadata": {},
     "output_type": "execute_result"
    }
   ],
   "source": [
    "class MetricBlock(pybloqs.BaseBlock):\n",
    "    def __init__(\n",
    "        self, metric_name: str, metric_value: float, metric_delta: float, **kwargs\n",
    "    ) -> None:\n",
    "        super().__init__(**kwargs)\n",
    "\n",
    "        self.metric_name = metric_name\n",
    "        self.metric_value = metric_value\n",
    "        self.metric_delta = metric_delta\n",
    "\n",
    "    def _write_contents(\n",
    "        self,\n",
    "        container: bs4.Tag,\n",
    "        actual_cfg: pybloqs.util.Cfg,\n",
    "        id_gen: Iterator[str],\n",
    "        resource_deps=None,\n",
    "        static_output: Optional[bool] = None,\n",
    "    ) -> None:\n",
    "        metric_span = append_to(container, \"span\", style=\"font-size: 2rem;\")\n",
    "        metric_span.string = f\"{self.metric_value}\"\n",
    "        name_span = append_to(container, \"span\", style=\"font-weight:bold\")\n",
    "        name_span.string = self.metric_name\n",
    "        metric_delta = append_to(container, \"span\", style=\"color:green;\")\n",
    "        metric_delta.string = f\"({self.metric_delta:+})\"\n",
    "\n",
    "\n",
    "MetricBlock(\"Widgets made\", 20, 3, title=\"Our metric\", title_level=4)"
   ]
  },
  {
   "cell_type": "markdown",
   "metadata": {},
   "source": [
    "We can go further though, and bundle some CSS with our block. Here we set the `class` attribute on the tags to tie them to the style sheet.\n",
    "\n",
    ":::{note}\n",
    "Because `class` is a keyword in python, we can't write `append_to(container, \"span\", class=\"metric\")` but we can abuse keyword arguments to pass this variable in.\n",
    "We might also have set `metric_span[\"class\"] = \"metric\"`.\n",
    ":::\n",
    "\n",
    ":::{warning}\n",
    "Note that `resource_deps` is a _tuple_ containing a single element.\n",
    ":::\n"
   ]
  },
  {
   "cell_type": "code",
   "execution_count": 6,
   "metadata": {},
   "outputs": [
    {
     "data": {
      "text/html": [
       "<div class=\"pybloqs\">\n",
       " <H4 style=\"white-space: nowrap\">\n",
       "  Our metric\n",
       " </H4>\n",
       " <span class=\"metric\">\n",
       "  <span class=\"value\">\n",
       "   20\n",
       "  </span>\n",
       "  <span class=\"name\">\n",
       "   Widgets made\n",
       "  </span>\n",
       "  <span class=\"delta\">\n",
       "   (+3)\n",
       "  </span>\n",
       " </span>\n",
       "</div>\n",
       "<style type=\"text/css\">\n",
       " .pybloqs {\n",
       "    font-family: Helvetica, \"Lucida Grande\", \"Lucida Sans Unicode\", Verdana, Arial, sans-serif;\n",
       "}\n",
       "\n",
       ".pybloqs pre code {\n",
       "    display: block;\n",
       "    margin-left: 1em;\n",
       "    font-family: monospace;\n",
       "}\n",
       "\n",
       "@media print {\n",
       "\t#footer {\n",
       "\t    position: fixed;\n",
       "\t    bottom: 0;\n",
       "\t}\n",
       "}\n",
       "</style>\n",
       "<style type=\"text/css\">\n",
       " .metric{\n",
       "  display: flex;\n",
       "  flex-direction: column;\n",
       "  border: 2px grey solid;\n",
       "  height: 10em;\n",
       "  width: 10em;\n",
       "  border-radius: 5em;\n",
       "  text-align: center;\n",
       "}\n",
       ".metric>.value {\n",
       "  font-size:2.5rem;\n",
       "  padding-top: 0.8em;\n",
       "  font-weight: bold;\n",
       "}\n",
       ".metric>.delta {\n",
       "  color: green;\n",
       "}\n",
       "</style>\n"
      ],
      "text/plain": [
       "<__main__.MetricBlock at 0x7a9774b096c0>"
      ]
     },
     "execution_count": 6,
     "metadata": {},
     "output_type": "execute_result"
    }
   ],
   "source": [
    "from pybloqs.static import Css\n",
    "\n",
    "CSS_STRING = \"\"\"\n",
    ".metric{\n",
    "  display: flex;\n",
    "  flex-direction: column;\n",
    "  border: 2px grey solid;\n",
    "  height: 10em;\n",
    "  width: 10em;\n",
    "  border-radius: 5em;\n",
    "  text-align: center;\n",
    "}\n",
    ".metric>.value {\n",
    "  font-size:2.5rem;\n",
    "  padding-top: 0.8em;\n",
    "  font-weight: bold;\n",
    "}\n",
    ".metric>.delta {\n",
    "  color: green;\n",
    "}\n",
    "\"\"\"\n",
    "\n",
    "\n",
    "class MetricBlock(pybloqs.BaseBlock):\n",
    "    resource_deps = (Css(name=\"metrics_css\", css_string=CSS_STRING),)\n",
    "\n",
    "    def __init__(\n",
    "        self, metric_name: str, metric_value: float, metric_delta: float, **kwargs\n",
    "    ) -> None:\n",
    "        super().__init__(**kwargs)\n",
    "\n",
    "        self.metric_name = metric_name\n",
    "        self.metric_value = metric_value\n",
    "        self.metric_delta = metric_delta\n",
    "\n",
    "    def _write_contents(\n",
    "        self,\n",
    "        container: bs4.Tag,\n",
    "        actual_cfg: pybloqs.util.Cfg,\n",
    "        id_gen: Iterator[str],\n",
    "        resource_deps=None,\n",
    "        static_output: Optional[bool] = None,\n",
    "    ) -> None:\n",
    "        metric_container = append_to(container, \"span\", **{\"class\": \"metric\"})\n",
    "        metric_span = append_to(metric_container, \"span\", **{\"class\": \"value\"})\n",
    "        metric_span.string = f\"{self.metric_value}\"\n",
    "        name_span = append_to(metric_container, \"span\", **{\"class\": \"name\"})\n",
    "        name_span.string = self.metric_name\n",
    "        metric_delta = append_to(metric_container, \"span\", **{\"class\": \"delta\"})\n",
    "        metric_delta.string = f\"({self.metric_delta:+})\"\n",
    "\n",
    "\n",
    "MetricBlock(\"Widgets made\", 20, 3, title=\"Our metric\", title_level=4)"
   ]
  },
  {
   "cell_type": "markdown",
   "metadata": {},
   "source": [
    "Note that pybloqs is smart and will only include the CSS once per document, no matter how many metric blocks are in the report!"
   ]
  },
  {
   "cell_type": "markdown",
   "metadata": {},
   "source": [
    "Finally we can include some JavaScript. While the functionality here is easily do-able with html `:hover` selectors, we use a small script to highlight some features."
   ]
  },
  {
   "cell_type": "code",
   "execution_count": 7,
   "metadata": {},
   "outputs": [
    {
     "data": {
      "text/html": [
       "<div class=\"pybloqs\">\n",
       " <H4 style=\"white-space: nowrap\">\n",
       "  Our metric\n",
       " </H4>\n",
       " <span class=\"metric\" id=\"pybloqs_id_0\" onmouseout='remove_shadow(\"pybloqs_id_0\")' onmouseover='add_shadow(\"pybloqs_id_0\")'>\n",
       "  <span class=\"value\">\n",
       "   20\n",
       "  </span>\n",
       "  <span class=\"name\">\n",
       "   Widgets made\n",
       "  </span>\n",
       "  <span class=\"delta\">\n",
       "   (+3)\n",
       "  </span>\n",
       " </span>\n",
       "</div>\n",
       "<style type=\"text/css\">\n",
       " .pybloqs {\n",
       "    font-family: Helvetica, \"Lucida Grande\", \"Lucida Sans Unicode\", Verdana, Arial, sans-serif;\n",
       "}\n",
       "\n",
       ".pybloqs pre code {\n",
       "    display: block;\n",
       "    margin-left: 1em;\n",
       "    font-family: monospace;\n",
       "}\n",
       "\n",
       "@media print {\n",
       "\t#footer {\n",
       "\t    position: fixed;\n",
       "\t    bottom: 0;\n",
       "\t}\n",
       "}\n",
       "</style>\n",
       "<style type=\"text/css\">\n",
       " .metric{\n",
       "  display: flex;\n",
       "  flex-direction: column;\n",
       "  border: 2px grey solid;\n",
       "  height: 10em;\n",
       "  width: 10em;\n",
       "  border-radius: 5em;\n",
       "  text-align: center;\n",
       "}\n",
       ".metric>.value {\n",
       "  font-size:2.5rem;\n",
       "  padding-top: 0.8em;\n",
       "  font-weight: bold;\n",
       "}\n",
       ".metric>.delta {\n",
       "  color: green;\n",
       "}\n",
       "</style>\n",
       "<script type=\"text/javascript\">\n",
       " if(typeof(_pybloqs_load_sentinel_metrics_js) == 'undefined'){\n",
       "\n",
       "function add_shadow(event) {\n",
       "  document.getElementById(event).style.boxShadow = \"0px 0px 5px grey\"; \n",
       "}\n",
       "function remove_shadow(event) {\n",
       "  document.getElementById(event).style.boxShadow = \"none\";\n",
       "}\n",
       "\n",
       "_pybloqs_load_sentinel_metrics_js = true;}\n",
       "</script>\n"
      ],
      "text/plain": [
       "<__main__.MetricBlock at 0x7a9774fd7460>"
      ]
     },
     "execution_count": 7,
     "metadata": {},
     "output_type": "execute_result"
    }
   ],
   "source": [
    "from pybloqs.static import JScript\n",
    "\n",
    "CSS_STRING = \"\"\"\n",
    ".metric{\n",
    "  display: flex;\n",
    "  flex-direction: column;\n",
    "  border: 2px grey solid;\n",
    "  height: 10em;\n",
    "  width: 10em;\n",
    "  border-radius: 5em;\n",
    "  text-align: center;\n",
    "}\n",
    ".metric>.value {\n",
    "  font-size:2.5rem;\n",
    "  padding-top: 0.8em;\n",
    "  font-weight: bold;\n",
    "}\n",
    ".metric>.delta {\n",
    "  color: green;\n",
    "}\n",
    "\"\"\"\n",
    "\n",
    "JS_STRING = \"\"\"\n",
    "function add_shadow(event) {\n",
    "  document.getElementById(event).style.boxShadow = \"0px 0px 5px grey\"; \n",
    "}\n",
    "function remove_shadow(event) {\n",
    "  document.getElementById(event).style.boxShadow = \"none\";\n",
    "}\n",
    "\"\"\"\n",
    "\n",
    "\n",
    "class MetricBlock(pybloqs.BaseBlock):\n",
    "    resource_deps = (\n",
    "        Css(name=\"metrics_css\", css_string=CSS_STRING),\n",
    "        JScript(name=\"metrics_js\", script_string=JS_STRING),\n",
    "    )\n",
    "\n",
    "    def __init__(\n",
    "        self, metric_name: str, metric_value: float, metric_delta: float, **kwargs\n",
    "    ) -> None:\n",
    "        super().__init__(**kwargs)\n",
    "\n",
    "        self.metric_name = metric_name\n",
    "        self.metric_value = metric_value\n",
    "        self.metric_delta = metric_delta\n",
    "\n",
    "    def _write_contents(\n",
    "        self,\n",
    "        container: bs4.Tag,\n",
    "        actual_cfg: pybloqs.util.Cfg,\n",
    "        id_gen: Iterator[str],\n",
    "        resource_deps=None,\n",
    "        static_output: Optional[bool] = None,\n",
    "    ) -> None:\n",
    "        metric_container = append_to(\n",
    "            container, \"span\", id=next(id_gen), **{\"class\": \"metric\"}\n",
    "        )\n",
    "        metric_container[\"onmouseover\"] = f'add_shadow(\"{metric_container[\"id\"]}\")'\n",
    "        metric_container[\"onmouseout\"] = f'remove_shadow(\"{metric_container[\"id\"]}\")'\n",
    "        metric_span = append_to(metric_container, \"span\", **{\"class\": \"value\"})\n",
    "        metric_span.string = f\"{self.metric_value}\"\n",
    "        name_span = append_to(metric_container, \"span\", **{\"class\": \"name\"})\n",
    "        name_span.string = self.metric_name\n",
    "        metric_delta = append_to(metric_container, \"span\", **{\"class\": \"delta\"})\n",
    "        metric_delta.string = f\"({self.metric_delta:+})\"\n",
    "\n",
    "\n",
    "MetricBlock(\"Widgets made\", 20, 3, title=\"Our metric\", title_level=4)"
   ]
  },
  {
   "cell_type": "markdown",
   "metadata": {},
   "source": [
    "Again, JavaScript resources are included only once per document and as such `resource_deps` is a class attribute of `MetricBlock`, not a member of any instance. This is why we identify elements of the DOM by `id`, here generated using the utility `id_gen`. "
   ]
  },
  {
   "cell_type": "markdown",
   "metadata": {},
   "source": [
    "The other arguments to `_write_contents` can be passed to `_write_block` of any child blocks of your custom block, if you have nesting."
   ]
  },
  {
   "cell_type": "markdown",
   "metadata": {},
   "source": []
  }
 ],
 "metadata": {
  "kernelspec": {
   "display_name": ".venv",
   "language": "python",
   "name": "python3"
  },
  "language_info": {
   "codemirror_mode": {
    "name": "ipython",
    "version": 3
   },
   "file_extension": ".py",
   "mimetype": "text/x-python",
   "name": "python",
   "nbconvert_exporter": "python",
   "pygments_lexer": "ipython3",
   "version": "3.10.12"
  }
 },
 "nbformat": 4,
 "nbformat_minor": 2
}
