{
 "cells": [
  {
   "cell_type": "markdown",
   "metadata": {},
   "source": [
    "# Composable Blocks & Interactive Charts"
   ]
  },
  {
   "cell_type": "markdown",
   "metadata": {},
   "source": [
    "This notebook is a simple illustration of the python API for Blocks and Highcharts interactive charts.\n",
    "\n",
    "**What are Blocks?**\n",
    "Blocks are composable layout elements for easily building HTML, PDF, PNG and JPG based reports. At the same time, all block constructs can be rendered in-line in IPython Notebooks (as will be shown later). This has practical benefits like a single backtest function that can be used for quick analysis during research work in a notebook, but also directly injected into more formal reports with having to fumble around with intermediate formats.\n",
    "\n",
    "Practically all the functionality is based on HTML rendering. HTML is a declarative, tree based language that is easy to work with and fungible. Blocks are also declarative, composable into a tree and are meant to be dead simple. The match was thus quite natural.\n",
    "\n",
    "The blocks do not try to match the power and precision of latex. Such an undertaking would be not only out of the scope of a simple library, but would mean the reinvention of latex with all the gnarliness that comes with it.\n",
    "\n",
    "This notebook aims to showcase the functionality and offers some examples to help people get started."
   ]
  },
  {
   "cell_type": "markdown",
   "metadata": {},
   "source": [
    "### Imports & Data"
   ]
  },
  {
   "cell_type": "code",
   "execution_count": 1,
   "metadata": {},
   "outputs": [],
   "source": [
    "%%capture\n",
    "import numpy as np\n",
    "import pandas as pd\n",
    "import pandas.util.testing as pt\n",
    "from datetime import datetime\n",
    "\n",
    "import pybloqs as p"
   ]
  },
  {
   "cell_type": "code",
   "execution_count": 2,
   "metadata": {},
   "outputs": [],
   "source": [
    "df = pd.DataFrame((np.random.rand(200, 4)-0.5)/10,\n",
    "                  columns=list(\"ABCD\"),\n",
    "                  index=pd.date_range(datetime(2000,1,1), periods=200))\n",
    "\n",
    "df_cr = (df + 1).cumprod()\n",
    "\n",
    "a = df_cr.A\n",
    "b = df_cr.B\n",
    "c = df_cr.C\n",
    "c.name = \"C\""
   ]
  },
  {
   "cell_type": "markdown",
   "metadata": {},
   "source": [
    "### Using Blocks\n",
    "Obligatory \"Hello World!\""
   ]
  },
  {
   "cell_type": "code",
   "execution_count": 3,
   "metadata": {},
   "outputs": [
    {
     "data": {
      "text/html": [
       "<div class=\"pybloqs\">\n",
       " Hello World!\n",
       "</div>"
      ],
      "text/plain": [
       "<pybloqs.block.text.Raw at 0x7f4f87f5ed30>"
      ]
     },
     "execution_count": 3,
     "metadata": {},
     "output_type": "execute_result"
    }
   ],
   "source": [
    "p.Block(\"Hello World!\")"
   ]
  },
  {
   "cell_type": "markdown",
   "metadata": {},
   "source": [
    "Play around with alignment"
   ]
  },
  {
   "cell_type": "code",
   "execution_count": 4,
   "metadata": {},
   "outputs": [
    {
     "data": {
      "text/html": [
       "<div class=\"pybloqs\" style=\"h-align:left\">\n",
       " Hello World!\n",
       "</div>"
      ],
      "text/plain": [
       "<pybloqs.block.text.Raw at 0x7f4f87f5e2b0>"
      ]
     },
     "execution_count": 4,
     "metadata": {},
     "output_type": "execute_result"
    }
   ],
   "source": [
    "p.Block(\"Hello World!\", h_align=\"left\")"
   ]
  },
  {
   "cell_type": "markdown",
   "metadata": {},
   "source": [
    "Adding a title"
   ]
  },
  {
   "cell_type": "code",
   "execution_count": 5,
   "metadata": {},
   "outputs": [
    {
     "data": {
      "text/html": [
       "<div class=\"pybloqs\" style=\"h-align:left\">\n",
       " <H3 style=\"white-space: nowrap\">\n",
       "  Announcement\n",
       " </H3>\n",
       " Hello World!\n",
       "</div>"
      ],
      "text/plain": [
       "<pybloqs.block.text.Raw at 0x7f4f87f5e5c0>"
      ]
     },
     "execution_count": 5,
     "metadata": {},
     "output_type": "execute_result"
    }
   ],
   "source": [
    "p.Block(\"Hello World!\", title=\"Announcement\", h_align=\"left\")"
   ]
  },
  {
   "cell_type": "markdown",
   "metadata": {},
   "source": [
    "Writing out dataframes"
   ]
  },
  {
   "cell_type": "code",
   "execution_count": 6,
   "metadata": {},
   "outputs": [
    {
     "data": {
      "text/html": [
       "<div class=\"pybloqs\">\n",
       " <table border=\"0\" cellpadding=\"1\" cellspacing=\"0\" class=\"\" id=\"blox_table_id\" style=\"margin-left:auto; margin-right:auto; page-break-inside:avoid;\">\n",
       "  <thead style=\"display:table-header-group;\">\n",
       "   <tr style=\"page-break-inside:avoid;\">\n",
       "    <th style=\"font-size:14px; background-color:rgb(255,255,255); text-align:left; font-weight:bold\">\n",
       "    </th>\n",
       "    <th style=\"font-size:14px; background-color:rgb(255,255,255); text-align:left; font-weight:bold\">\n",
       "     A\n",
       "    </th>\n",
       "    <th style=\"font-size:14px; background-color:rgb(255,255,255); text-align:left; font-weight:bold\">\n",
       "     B\n",
       "    </th>\n",
       "    <th style=\"font-size:14px; background-color:rgb(255,255,255); text-align:left; font-weight:bold\">\n",
       "     C\n",
       "    </th>\n",
       "    <th style=\"font-size:14px; background-color:rgb(255,255,255); text-align:left; font-weight:bold\">\n",
       "     D\n",
       "    </th>\n",
       "   </tr>\n",
       "  </thead>\n",
       "  <tbody>\n",
       "   <tr style=\"page-break-inside:avoid;\">\n",
       "    <td style=\"font-size:14px; background-color:rgb(255,255,255); text-align:left; font-weight:bold\">\n",
       "     2000-01-01 00:00:00\n",
       "    </td>\n",
       "    <td style=\"font-size:14px; background-color:rgb(255,255,255); text-align:right\">\n",
       "     0.03\n",
       "    </td>\n",
       "    <td style=\"font-size:14px; background-color:rgb(255,255,255); text-align:right\">\n",
       "     -0.02\n",
       "    </td>\n",
       "    <td style=\"font-size:14px; background-color:rgb(255,255,255); text-align:right\">\n",
       "     -0.01\n",
       "    </td>\n",
       "    <td style=\"font-size:14px; background-color:rgb(255,255,255); text-align:right\">\n",
       "     -0.04\n",
       "    </td>\n",
       "   </tr>\n",
       "   <tr style=\"page-break-inside:avoid;\">\n",
       "    <td style=\"font-size:14px; background-color:rgb(229,229,229); text-align:left; font-weight:bold\">\n",
       "     2000-01-02 00:00:00\n",
       "    </td>\n",
       "    <td style=\"font-size:14px; background-color:rgb(229,229,229); text-align:right\">\n",
       "     0.01\n",
       "    </td>\n",
       "    <td style=\"font-size:14px; background-color:rgb(229,229,229); text-align:right\">\n",
       "     0.02\n",
       "    </td>\n",
       "    <td style=\"font-size:14px; background-color:rgb(229,229,229); text-align:right\">\n",
       "     0.02\n",
       "    </td>\n",
       "    <td style=\"font-size:14px; background-color:rgb(229,229,229); text-align:right\">\n",
       "     -0.05\n",
       "    </td>\n",
       "   </tr>\n",
       "   <tr style=\"page-break-inside:avoid;\">\n",
       "    <td style=\"font-size:14px; background-color:rgb(255,255,255); text-align:left; font-weight:bold\">\n",
       "     2000-01-03 00:00:00\n",
       "    </td>\n",
       "    <td style=\"font-size:14px; background-color:rgb(255,255,255); text-align:right\">\n",
       "     0.00\n",
       "    </td>\n",
       "    <td style=\"font-size:14px; background-color:rgb(255,255,255); text-align:right\">\n",
       "     -0.04\n",
       "    </td>\n",
       "    <td style=\"font-size:14px; background-color:rgb(255,255,255); text-align:right\">\n",
       "     -0.02\n",
       "    </td>\n",
       "    <td style=\"font-size:14px; background-color:rgb(255,255,255); text-align:right\">\n",
       "     -0.03\n",
       "    </td>\n",
       "   </tr>\n",
       "   <tr style=\"page-break-inside:avoid;\">\n",
       "    <td style=\"font-size:14px; background-color:rgb(229,229,229); text-align:left; font-weight:bold\">\n",
       "     2000-01-04 00:00:00\n",
       "    </td>\n",
       "    <td style=\"font-size:14px; background-color:rgb(229,229,229); text-align:right\">\n",
       "     -0.02\n",
       "    </td>\n",
       "    <td style=\"font-size:14px; background-color:rgb(229,229,229); text-align:right\">\n",
       "     0.04\n",
       "    </td>\n",
       "    <td style=\"font-size:14px; background-color:rgb(229,229,229); text-align:right\">\n",
       "     0.01\n",
       "    </td>\n",
       "    <td style=\"font-size:14px; background-color:rgb(229,229,229); text-align:right\">\n",
       "     -0.03\n",
       "    </td>\n",
       "   </tr>\n",
       "   <tr style=\"page-break-inside:avoid;\">\n",
       "    <td style=\"font-size:14px; background-color:rgb(255,255,255); text-align:left; font-weight:bold\">\n",
       "     2000-01-05 00:00:00\n",
       "    </td>\n",
       "    <td style=\"font-size:14px; background-color:rgb(255,255,255); text-align:right\">\n",
       "     -0.05\n",
       "    </td>\n",
       "    <td style=\"font-size:14px; background-color:rgb(255,255,255); text-align:right\">\n",
       "     0.04\n",
       "    </td>\n",
       "    <td style=\"font-size:14px; background-color:rgb(255,255,255); text-align:right\">\n",
       "     -0.04\n",
       "    </td>\n",
       "    <td style=\"font-size:14px; background-color:rgb(255,255,255); text-align:right\">\n",
       "     -0.02\n",
       "    </td>\n",
       "   </tr>\n",
       "  </tbody>\n",
       " </table>\n",
       "</div>"
      ],
      "text/plain": [
       "<pybloqs.block.table.HTMLJinjaTableBlock at 0x7f4f87f5ec50>"
      ]
     },
     "execution_count": 6,
     "metadata": {},
     "output_type": "execute_result"
    }
   ],
   "source": [
    "p.Block(df.head())"
   ]
  },
  {
   "cell_type": "markdown",
   "metadata": {},
   "source": [
    "Writing out matplotlib plots"
   ]
  },
  {
   "cell_type": "code",
   "execution_count": 7,
   "metadata": {},
   "outputs": [
    {
     "data": {
      "text/html": [
       "<div class=\"pybloqs\">\n",
       " <img src=\"data:image/png;base64,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\" style=\"width:6.000in;height:4.000in\"/>\n",
       "</div>"
      ],
      "text/plain": [
       "<pybloqs.block.image.PlotBlock at 0x7f4f87ef8358>"
      ]
     },
     "execution_count": 7,
     "metadata": {},
     "output_type": "execute_result"
    }
   ],
   "source": [
    "p.Block(df.A.plot())"
   ]
  },
  {
   "cell_type": "markdown",
   "metadata": {},
   "source": [
    "Raw HTML output"
   ]
  },
  {
   "cell_type": "code",
   "execution_count": 8,
   "metadata": {},
   "outputs": [
    {
     "data": {
      "text/html": [
       "<div class=\"pybloqs\">\n",
       " <b>\n",
       "  this text is bold\n",
       " </b>\n",
       "</div>"
      ],
      "text/plain": [
       "<pybloqs.block.text.Raw at 0x7f4f87f5e358>"
      ]
     },
     "execution_count": 8,
     "metadata": {},
     "output_type": "execute_result"
    }
   ],
   "source": [
    "p.Block(\"<b>this text is bold</b>\")"
   ]
  },
  {
   "cell_type": "markdown",
   "metadata": {},
   "source": [
    "Composing blocks"
   ]
  },
  {
   "cell_type": "code",
   "execution_count": 9,
   "metadata": {},
   "outputs": [
    {
     "data": {
      "text/html": [
       "<div class=\"pybloqs\">\n",
       " <div>\n",
       "  <div class=\"pybloqs\">\n",
       "   <H3 style=\"white-space: nowrap\">\n",
       "    Announcement\n",
       "   </H3>\n",
       "   Hello World!\n",
       "  </div>\n",
       " </div>\n",
       " <div>\n",
       "  <div class=\"pybloqs\">\n",
       "   <b>\n",
       "    this text is bold\n",
       "   </b>\n",
       "  </div>\n",
       " </div>\n",
       "</div>"
      ],
      "text/plain": [
       "<pybloqs.block.layout.VStack at 0x7f4f85e1e240>"
      ]
     },
     "execution_count": 9,
     "metadata": {},
     "output_type": "execute_result"
    }
   ],
   "source": [
    "p.VStack([p.Block(\"Hello World!\", title=\"Announcement\"), p.Block(\"<b>this text is bold</b>\")])"
   ]
  },
  {
   "cell_type": "markdown",
   "metadata": {},
   "source": [
    "In most cases, one does not need to explicitly wrap elements in blocks"
   ]
  },
  {
   "cell_type": "code",
   "execution_count": 10,
   "metadata": {},
   "outputs": [
    {
     "data": {
      "text/html": [
       "<div class=\"pybloqs\">\n",
       " <div class=\"pybloqs-grid-row\">\n",
       "  <div class=\"pybloqs-grid-cell\" style=\"width:100.000000%;float:left;\">\n",
       "   <div class=\"pybloqs\">\n",
       "    Block 0\n",
       "   </div>\n",
       "  </div>\n",
       " </div>\n",
       " <div class=\"pybloqs-grid-row\" style=\"clear:both\">\n",
       "  <div class=\"pybloqs-grid-cell\" style=\"width:100.000000%;float:left;\">\n",
       "   <div class=\"pybloqs\">\n",
       "    Block 1\n",
       "   </div>\n",
       "  </div>\n",
       " </div>\n",
       " <div class=\"pybloqs-grid-row\" style=\"clear:both\">\n",
       "  <div class=\"pybloqs-grid-cell\" style=\"width:100.000000%;float:left;\">\n",
       "   <div class=\"pybloqs\">\n",
       "    Block 2\n",
       "   </div>\n",
       "  </div>\n",
       " </div>\n",
       " <div class=\"pybloqs-grid-row\" style=\"clear:both\">\n",
       "  <div class=\"pybloqs-grid-cell\" style=\"width:100.000000%;float:left;\">\n",
       "   <div class=\"pybloqs\">\n",
       "    Block 3\n",
       "   </div>\n",
       "  </div>\n",
       " </div>\n",
       " <div class=\"pybloqs-grid-row\" style=\"clear:both\">\n",
       "  <div class=\"pybloqs-grid-cell\" style=\"width:100.000000%;float:left;\">\n",
       "   <div class=\"pybloqs\">\n",
       "    Block 4\n",
       "   </div>\n",
       "  </div>\n",
       " </div>\n",
       " <div class=\"pybloqs-grid-row\" style=\"clear:both\">\n",
       "  <div class=\"pybloqs-grid-cell\" style=\"width:100.000000%;float:left;\">\n",
       "   <div class=\"pybloqs\">\n",
       "    Block 5\n",
       "   </div>\n",
       "  </div>\n",
       " </div>\n",
       " <div class=\"pybloqs-grid-row\" style=\"clear:both\">\n",
       "  <div class=\"pybloqs-grid-cell\" style=\"width:100.000000%;float:left;\">\n",
       "   <div class=\"pybloqs\">\n",
       "    Block 6\n",
       "   </div>\n",
       "  </div>\n",
       " </div>\n",
       " <div class=\"pybloqs-grid-row\" style=\"clear:both\">\n",
       "  <div class=\"pybloqs-grid-cell\" style=\"width:100.000000%;float:left;\">\n",
       "   <div class=\"pybloqs\">\n",
       "    Block 7\n",
       "   </div>\n",
       "  </div>\n",
       " </div>\n",
       " <div style=\"clear:both\">\n",
       " </div>\n",
       "</div>"
      ],
      "text/plain": [
       "<pybloqs.block.layout.Grid at 0x7f4f85e1e780>"
      ]
     },
     "execution_count": 10,
     "metadata": {},
     "output_type": "execute_result"
    }
   ],
   "source": [
    "p.Block([\"Block %s\" % i for i in range(8)])"
   ]
  },
  {
   "cell_type": "markdown",
   "metadata": {},
   "source": [
    "Splitting composite blocks into columns"
   ]
  },
  {
   "cell_type": "code",
   "execution_count": 11,
   "metadata": {},
   "outputs": [
    {
     "data": {
      "text/html": [
       "<div class=\"pybloqs\">\n",
       " <div class=\"pybloqs-grid-row\">\n",
       "  <div class=\"pybloqs-grid-cell\" style=\"width:25.000000%;float:left;\">\n",
       "   <div class=\"pybloqs\">\n",
       "    Block 0\n",
       "   </div>\n",
       "  </div>\n",
       "  <div class=\"pybloqs-grid-cell\" style=\"width:25.000000%;float:left;\">\n",
       "   <div class=\"pybloqs\">\n",
       "    Block 1\n",
       "   </div>\n",
       "  </div>\n",
       "  <div class=\"pybloqs-grid-cell\" style=\"width:25.000000%;float:left;\">\n",
       "   <div class=\"pybloqs\">\n",
       "    Block 2\n",
       "   </div>\n",
       "  </div>\n",
       "  <div class=\"pybloqs-grid-cell\" style=\"width:25.000000%;float:left;\">\n",
       "   <div class=\"pybloqs\">\n",
       "    Block 3\n",
       "   </div>\n",
       "  </div>\n",
       " </div>\n",
       " <div class=\"pybloqs-grid-row\" style=\"clear:both\">\n",
       "  <div class=\"pybloqs-grid-cell\" style=\"width:25.000000%;float:left;\">\n",
       "   <div class=\"pybloqs\">\n",
       "    Block 4\n",
       "   </div>\n",
       "  </div>\n",
       "  <div class=\"pybloqs-grid-cell\" style=\"width:25.000000%;float:left;\">\n",
       "   <div class=\"pybloqs\">\n",
       "    Block 5\n",
       "   </div>\n",
       "  </div>\n",
       "  <div class=\"pybloqs-grid-cell\" style=\"width:25.000000%;float:left;\">\n",
       "   <div class=\"pybloqs\">\n",
       "    Block 6\n",
       "   </div>\n",
       "  </div>\n",
       "  <div class=\"pybloqs-grid-cell\" style=\"width:25.000000%;float:left;\">\n",
       "   <div class=\"pybloqs\">\n",
       "    Block 7\n",
       "   </div>\n",
       "  </div>\n",
       " </div>\n",
       " <div style=\"clear:both\">\n",
       " </div>\n",
       "</div>"
      ],
      "text/plain": [
       "<pybloqs.block.layout.Grid at 0x7f4f85e1c710>"
      ]
     },
     "execution_count": 11,
     "metadata": {},
     "output_type": "execute_result"
    }
   ],
   "source": [
    "p.Block([\"Block %s\" % i for i in range(8)], cols=4)"
   ]
  },
  {
   "cell_type": "markdown",
   "metadata": {},
   "source": [
    "Layout styling is cascading - styles will cascade from parent blocks to child blocks by default. This behavior can be disabled by setting *inherit_cfg* to false on the child blocks, or simply specifying the desired settings explicitly."
   ]
  },
  {
   "cell_type": "code",
   "execution_count": 12,
   "metadata": {},
   "outputs": [
    {
     "data": {
      "text/html": [
       "<div class=\"pybloqs\" style=\"text-align:right\">\n",
       " <div class=\"pybloqs-grid-row\">\n",
       "  <div class=\"pybloqs-grid-cell\" style=\"width:25.000000%;float:left;\">\n",
       "   <div class=\"pybloqs\" style=\"text-align:right\">\n",
       "    Block 0\n",
       "   </div>\n",
       "  </div>\n",
       "  <div class=\"pybloqs-grid-cell\" style=\"width:25.000000%;float:left;\">\n",
       "   <div class=\"pybloqs\" style=\"text-align:right\">\n",
       "    Block 1\n",
       "   </div>\n",
       "  </div>\n",
       "  <div class=\"pybloqs-grid-cell\" style=\"width:25.000000%;float:left;\">\n",
       "   <div class=\"pybloqs\" style=\"text-align:right\">\n",
       "    Block 2\n",
       "   </div>\n",
       "  </div>\n",
       "  <div class=\"pybloqs-grid-cell\" style=\"width:25.000000%;float:left;\">\n",
       "   <div class=\"pybloqs\" style=\"text-align:right\">\n",
       "    Block 3\n",
       "   </div>\n",
       "  </div>\n",
       " </div>\n",
       " <div class=\"pybloqs-grid-row\" style=\"clear:both\">\n",
       "  <div class=\"pybloqs-grid-cell\" style=\"width:25.000000%;float:left;\">\n",
       "   <div class=\"pybloqs\" style=\"text-align:right\">\n",
       "    Block 4\n",
       "   </div>\n",
       "  </div>\n",
       "  <div class=\"pybloqs-grid-cell\" style=\"width:25.000000%;float:left;\">\n",
       "   <div class=\"pybloqs\" style=\"text-align:right\">\n",
       "    Block 5\n",
       "   </div>\n",
       "  </div>\n",
       "  <div class=\"pybloqs-grid-cell\" style=\"width:25.000000%;float:left;\">\n",
       "   <div class=\"pybloqs\" style=\"text-align:right\">\n",
       "    Block 6\n",
       "   </div>\n",
       "  </div>\n",
       "  <div class=\"pybloqs-grid-cell\" style=\"width:25.000000%;float:left;\">\n",
       "   <div class=\"pybloqs\" style=\"text-align:right\">\n",
       "    Block 7\n",
       "   </div>\n",
       "  </div>\n",
       " </div>\n",
       " <div style=\"clear:both\">\n",
       " </div>\n",
       "</div>"
      ],
      "text/plain": [
       "<pybloqs.block.layout.Grid at 0x7f4f85e402b0>"
      ]
     },
     "execution_count": 12,
     "metadata": {},
     "output_type": "execute_result"
    }
   ],
   "source": [
    "p.Block([\"Block %s\" % i for i in range(8)], cols=4, text_align=\"right\")"
   ]
  },
  {
   "cell_type": "markdown",
   "metadata": {},
   "source": [
    "Using specific block types is simple as well. As an example - the Paragraph block:"
   ]
  },
  {
   "cell_type": "code",
   "execution_count": 13,
   "metadata": {},
   "outputs": [
    {
     "data": {
      "text/html": [
       "<div class=\"pybloqs\" style=\"text-align:right\">\n",
       " <div class=\"pybloqs-grid-row\">\n",
       "  <div class=\"pybloqs-grid-cell\" style=\"width:100.000000%;float:left;\">\n",
       "   <p class=\"pybloqs\" style=\"text-align:right\">\n",
       "    <div class=\"pybloqs\" style=\"text-align:right\">\n",
       "     First paragraph.\n",
       "    </div>\n",
       "   </p>\n",
       "  </div>\n",
       " </div>\n",
       " <div class=\"pybloqs-grid-row\" style=\"clear:both\">\n",
       "  <div class=\"pybloqs-grid-cell\" style=\"width:100.000000%;float:left;\">\n",
       "   <p class=\"pybloqs\" style=\"text-align:right\">\n",
       "    <div class=\"pybloqs\" style=\"text-align:right\">\n",
       "     Second paragraph.\n",
       "    </div>\n",
       "   </p>\n",
       "  </div>\n",
       " </div>\n",
       " <div class=\"pybloqs-grid-row\" style=\"clear:both\">\n",
       "  <div class=\"pybloqs-grid-cell\" style=\"width:100.000000%;float:left;\">\n",
       "   <p class=\"pybloqs\" style=\"text-align:right\">\n",
       "    <div class=\"pybloqs\" style=\"text-align:right\">\n",
       "     Third paragraph.\n",
       "    </div>\n",
       "   </p>\n",
       "  </div>\n",
       " </div>\n",
       " <div style=\"clear:both\">\n",
       " </div>\n",
       "</div>"
      ],
      "text/plain": [
       "<pybloqs.block.layout.Grid at 0x7f4f85e40518>"
      ]
     },
     "execution_count": 13,
     "metadata": {},
     "output_type": "execute_result"
    }
   ],
   "source": [
    "p.Block([p.Paragraph(\"First paragraph.\"),\n",
    "         p.Paragraph(\"Second paragraph.\"),\n",
    "         p.Paragraph(\"Third paragraph.\")], text_align=\"right\")"
   ]
  },
  {
   "cell_type": "markdown",
   "metadata": {},
   "source": [
    "The Pre block preserves whitespace formatting and is rendered using a fixed width font. Useful for rendering code-like text."
   ]
  },
  {
   "cell_type": "code",
   "execution_count": 14,
   "metadata": {},
   "outputs": [
    {
     "data": {
      "text/html": [
       "<pre class=\"pybloqs\">\n",
       "some:\n",
       "  example:\n",
       "    yaml: [1,2,3]\n",
       "  data: \"text\"\n",
       "</pre>"
      ],
      "text/plain": [
       "<pybloqs.block.text.Pre at 0x7f4f85e403c8>"
      ]
     },
     "execution_count": 14,
     "metadata": {},
     "output_type": "execute_result"
    }
   ],
   "source": [
    "p.Pre(\"\"\"\n",
    "some:\n",
    "  example:\n",
    "    yaml: [1,2,3]\n",
    "  data: \"text\"\n",
    "\"\"\")"
   ]
  },
  {
   "cell_type": "markdown",
   "metadata": {},
   "source": [
    "Creating custom blocks is trivial. For the majority of the cases, one can just inherit from the Container block, which has most of the plumbing already in place:"
   ]
  },
  {
   "cell_type": "code",
   "execution_count": 15,
   "metadata": {},
   "outputs": [
    {
     "data": {
      "text/html": [
       "<div class=\"pybloqs\">\n",
       " THIS HERE TEXT SHOULD LOOK LIKE SHOUTING!\n",
       "</div>"
      ],
      "text/plain": [
       "<__main__.Capitalize at 0x7f4f85e1e9b0>"
      ]
     },
     "execution_count": 15,
     "metadata": {},
     "output_type": "execute_result"
    }
   ],
   "source": [
    "class Capitalize(p.Raw):\n",
    "    def __init__(self, contents, **kwargs):\n",
    "        # Stringify and capitalize\n",
    "        contents = str(contents).upper()\n",
    "\n",
    "        super(Capitalize, self).__init__(contents, **kwargs)\n",
    "        \n",
    "Capitalize(\"this here text should look like shouting!\")"
   ]
  },
  {
   "cell_type": "code",
   "execution_count": 16,
   "metadata": {},
   "outputs": [
    {
     "name": "stdout",
     "output_type": "stream",
     "text": [
      "Please create ~/.pybloqs.cfg with entry for 'smtp_server'. See README.md and pybloqs/config.py for details.\n"
     ]
    }
   ],
   "source": [
    "# Emails a block (or a report consisting of many blocks). The emailing is independent of previous reports being saved (e.g. there is no need to call save\n",
    "# before emailing).\n",
    "from smtplib import SMTPServerDisconnected\n",
    "\n",
    "try:\n",
    "    p.Block('').email()\n",
    "except SMTPServerDisconnected:\n",
    "    print(\"Please create ~/.pybloqs.cfg with entry for 'smtp_server'. See README.md and pybloqs/config.py for details.\")"
   ]
  },
  {
   "cell_type": "markdown",
   "metadata": {},
   "source": [
    "### Page break"
   ]
  },
  {
   "cell_type": "code",
   "execution_count": 17,
   "metadata": {},
   "outputs": [
    {
     "name": "stdout",
     "output_type": "stream",
     "text": [
      "['wkhtmltopdf', '--no-stop-slow-scripts', '--debug-javascript', '--javascript-delay', '200', '--page-size', 'A4', '--orientation', 'Portrait', '--enable-smart-shrinking', '/tmp/69e57e72c8.html', 'two_page_report.pdf'] returned:\n",
      "\n",
      "None\n"
     ]
    },
    {
     "data": {
      "text/plain": [
       "'two_page_report.pdf'"
      ]
     },
     "execution_count": 17,
     "metadata": {},
     "output_type": "execute_result"
    }
   ],
   "source": [
    "blocks = [p.Block(\"First page\", styles={\"page-break-after\": \"always\"}),\n",
    "          p.Block(\"Second page\")]\n",
    "r = p.VStack(blocks)\n",
    "r.save(\"two_page_report.pdf\")"
   ]
  }
 ],
 "metadata": {
  "kernelspec": {
   "display_name": "Python 3",
   "language": "python",
   "name": "python3"
  },
  "language_info": {
   "codemirror_mode": {
    "name": "ipython",
    "version": 3
   },
   "file_extension": ".py",
   "mimetype": "text/x-python",
   "name": "python",
   "nbconvert_exporter": "python",
   "pygments_lexer": "ipython3",
   "version": "3.6.5"
  }
 },
 "nbformat": 4,
 "nbformat_minor": 1
}
