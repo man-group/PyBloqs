{
 "cells": [
  {
   "cell_type": "markdown",
   "metadata": {},
   "source": [
    "# Configuration\n",
    "\n",
    "PyBloqs has a few elements that can be configured locally:\n",
    "\n",
    "- Email sending\n",
    "- Public html directory (where [`Block.publish()`](https://pybloqs.readthedocs.io/en/latest/api.html#pybloqs.BaseBlock.publish) will save output)\n",
    "- Temporary html directory (where [`Block.show()`](https://pybloqs.readthedocs.io/en/latest/api.html#pybloqs.BaseBlock.show) will save output)\n",
    "- PDF conversion backend\n",
    "- Image conversion backend\n",
    "\n",
    "The defaults are set in [`pybloqs/config.py`](https://github.com/man-group/PyBloqs/blob/master/pybloqs/config.py) . Any entry in the dict `user_config` in `config.py` can be overwritten with a local file in the user's home directory at `~/.pybloqs.cfg` . The format of `.pybloqs.cfg` is [YAML](https://yaml.org), so changing the PDF conversion backend to Chrome-headless would be done with the following line:\n",
    "```yaml\n",
    "pdf_converter: chrome_headless\n",
    "```"
   ]
  },
  {
   "cell_type": "markdown",
   "metadata": {},
   "source": [
    "\n",
    "## Email\n",
    "The config file allows you to setup a call setup and login sequence against an [smtplib.SMTP](https://docs.python.org/2/library/smtplib.html#smtplib.SMTP)\n",
    "object. The following works for Google gmail - more details [here](https://support.google.com/a/answer/176600?hl=en)."
   ]
  },
  {
   "cell_type": "markdown",
   "metadata": {},
   "source": [
    "```yaml\n",
    "smtp_kwargs:\n",
    "  host: smtp.gmail.com\n",
    "  port: 587\n",
    "smtp_pre_login_calls:\n",
    "- !!python/tuple\n",
    "  - ehlo\n",
    "  - {}\n",
    "- !!python/tuple\n",
    "  - starttls\n",
    "  - {}\n",
    "- !!python/tuple\n",
    "  - ehlo\n",
    "  - {}\n",
    "smtp_login:\n",
    "  user: me@gmail.com\n",
    "  password: a_secret\n",
    "public_dir: /tmp\n",
    "tmp_html_dir: /tmp\n",
    "user_email_address: me@gmail.com\n",
    "```"
   ]
  }
 ],
 "metadata": {
  "kernelspec": {
   "display_name": "Python 3",
   "language": "python",
   "name": "python3"
  },
  "language_info": {
   "codemirror_mode": {
    "name": "ipython",
    "version": 3
   },
   "file_extension": ".py",
   "mimetype": "text/x-python",
   "name": "python",
   "nbconvert_exporter": "python",
   "pygments_lexer": "ipython3",
   "version": "3.6.5"
  }
 },
 "nbformat": 4,
 "nbformat_minor": 2
}
